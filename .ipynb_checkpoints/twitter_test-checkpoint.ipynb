{
 "cells": [
  {
   "cell_type": "code",
   "execution_count": 1,
   "id": "75f411ac-0a55-45d8-b5de-090aa3d0f133",
   "metadata": {},
   "outputs": [],
   "source": [
    "import tweepy\n",
    "import socket\n",
    "import json\n",
    "\n",
    "import os, time\n",
    "import pandas as pd\n",
    "import numpy as np\n"
   ]
  },
  {
   "cell_type": "code",
   "execution_count": 2,
   "id": "d1fba63b-ca45-41de-95a0-0e522f142734",
   "metadata": {},
   "outputs": [],
   "source": [
    "# Spark processing\n",
    "\n",
    "from pyspark import SparkContext\n",
    "from pyspark.streaming import StreamingContext\n",
    "from pyspark.sql import SQLContext\n",
    "from pyspark.sql.functions import desc\n",
    "from collections import namedtuple\n",
    "\n",
    "\n"
   ]
  },
  {
   "cell_type": "code",
   "execution_count": 3,
   "id": "2e3ba2bd-1fcd-4024-b69a-a0e60d2ce74b",
   "metadata": {},
   "outputs": [
    {
     "name": "stderr",
     "output_type": "stream",
     "text": [
      "22/04/03 10:04:34 WARN Utils: Your hostname, linyanliangdeMacBook-Pro.local resolves to a loopback address: 127.0.0.1; using 192.168.1.101 instead (on interface en0)\n",
      "22/04/03 10:04:34 WARN Utils: Set SPARK_LOCAL_IP if you need to bind to another address\n",
      "Using Spark's default log4j profile: org/apache/spark/log4j-defaults.properties\n",
      "Setting default log level to \"WARN\".\n",
      "To adjust logging level use sc.setLogLevel(newLevel). For SparkR, use setLogLevel(newLevel).\n",
      "22/04/03 10:04:35 WARN NativeCodeLoader: Unable to load native-hadoop library for your platform... using builtin-java classes where applicable\n",
      "/Users/linyanliang/.pyenv/versions/3.7.9/lib/python3.7/site-packages/pyspark/sql/context.py:79: FutureWarning: Deprecated in 3.0.0. Use SparkSession.builder.getOrCreate() instead.\n",
      "  FutureWarning\n"
     ]
    }
   ],
   "source": [
    "sc = SparkContext() # initial spark context\n",
    "\n",
    "ssc = StreamingContext(sc, 10)\n",
    "sqlContext = SQLContext(sc)\n",
    "\n",
    "\n",
    "socket_stream = ssc.socketTextStream(\"0.0.0.0\", 5555) # accept socket text stream\n",
    "\n",
    "#lines = socket_stream.window( 20 )\n",
    "\n",
    "# Create a class Tweet via namedtuple package\n",
    "fields = (\"tag\", \"count\" )\n",
    "Tweet = namedtuple( 'Tweet', fields )\n",
    "\n"
   ]
  },
  {
   "cell_type": "code",
   "execution_count": 4,
   "id": "42fbe498-608c-48ea-a358-f2794f7d6074",
   "metadata": {},
   "outputs": [],
   "source": [
    "lines = socket_stream.window( 20 )\n"
   ]
  },
  {
   "cell_type": "code",
   "execution_count": 5,
   "id": "7a7219ee-065c-4856-84a5-adee43f4b871",
   "metadata": {},
   "outputs": [],
   "source": [
    "lines.flatMap( lambda text: text.split( \" \" ) ) \\\n",
    "     .filter( lambda word: word.lower().startswith(\"#\") )  \\\n",
    "     .map( lambda word: ( word.lower(), 1 ) )  \\\n",
    "     .reduceByKey( lambda a, b: a + b )   \\\n",
    "     .map( lambda rec: Tweet( rec[0], rec[1] ) )   \\\n",
    "     .foreachRDD( lambda rdd: rdd.toDF().sort( desc(\"count\") ).limit(10).registerTempTable(\"tweets\") ) "
   ]
  },
  {
   "cell_type": "code",
   "execution_count": null,
   "id": "66ebca64-39ee-4876-ab21-bca2d573a025",
   "metadata": {
    "tags": []
   },
   "outputs": [],
   "source": [
    "ssc.start()"
   ]
  },
  {
   "cell_type": "code",
   "execution_count": null,
   "id": "11883bf3-991c-4ff3-a49e-2aa62428eda6",
   "metadata": {},
   "outputs": [],
   "source": []
  }
 ],
 "metadata": {
  "kernelspec": {
   "display_name": "Python 3 (ipykernel)",
   "language": "python",
   "name": "python3"
  },
  "language_info": {
   "codemirror_mode": {
    "name": "ipython",
    "version": 3
   },
   "file_extension": ".py",
   "mimetype": "text/x-python",
   "name": "python",
   "nbconvert_exporter": "python",
   "pygments_lexer": "ipython3",
   "version": "3.7.9"
  }
 },
 "nbformat": 4,
 "nbformat_minor": 5
}
